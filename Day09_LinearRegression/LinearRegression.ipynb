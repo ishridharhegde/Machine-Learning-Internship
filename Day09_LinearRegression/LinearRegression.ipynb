{
 "cells": [
  {
   "cell_type": "code",
   "execution_count": 1,
   "metadata": {},
   "outputs": [],
   "source": [
    "#import the necessary libraries\n",
    "import pandas as pd\n",
    "import numpy as np\n",
    "import matplotlib.pyplot as mpl\n",
    "%matplotlib inline"
   ]
  },
  {
   "cell_type": "code",
   "execution_count": 2,
   "metadata": {},
   "outputs": [],
   "source": [
    "#Cost function for the linear regression\n",
    "def costFunction(theta,xs,y):\n",
    "    J = 0.\n",
    "    for i in range(1,len(y)):\n",
    "        J = J + (1/(2*len(y)))*((np.dot(xs,theta)-y[i]))**2\n",
    "        return J"
   ]
  },
  {
   "cell_type": "code",
   "execution_count": 3,
   "metadata": {},
   "outputs": [],
   "source": [
    "#Function to get the proper values of theta using gradient descent algorithm\n",
    "def gradientDescent(xs, y, theta, alpha, m, iterations):\n",
    "    xTrans = xs.transpose()\n",
    "    for i in range(0, iterations):\n",
    "        hypothesis = np.dot(xs, theta)\n",
    "        loss = hypothesis - y\n",
    "        #cost = np.sum(loss ** 2) / (2 * m)\n",
    "        #print(\"Iteration %d | Cost: %f\" % (i, cost))\n",
    "        gradient = np.dot(xTrans, loss) / m\n",
    "        theta = theta - alpha * gradient\n",
    "    return theta"
   ]
  },
  {
   "cell_type": "code",
   "execution_count": 4,
   "metadata": {},
   "outputs": [],
   "source": [
    "#Plot a line for the given slope and intercept\n",
    "def drawLine(slope, intercept):\n",
    "    axes = mpl.gca()\n",
    "    x_vals = np.array(axes.get_xlim())\n",
    "    y_vals = intercept + slope * x_vals\n",
    "    mpl.plot(x_vals, y_vals, 'g--')"
   ]
  },
  {
   "cell_type": "code",
   "execution_count": 5,
   "metadata": {},
   "outputs": [
    {
     "data": {
      "text/plain": [
       "[<matplotlib.lines.Line2D at 0x214cebd6940>]"
      ]
     },
     "execution_count": 5,
     "metadata": {},
     "output_type": "execute_result"
    },
    {
     "data": {
      "image/png": "[encoded data removed]",
      "text/plain": [
       "<Figure size 432x288 with 1 Axes>"
      ]
     },
     "metadata": {
      "needs_background": "light"
     },
     "output_type": "display_data"
    }
   ],
   "source": [
    "#Implementation according to the mathematical model\n",
    "train_data=pd.read_csv(\"train.csv\")\n",
    "xs=pd.DataFrame({'x0':1.,'x':train_data.X})\n",
    "x=train_data.X.values\n",
    "y=train_data.Y.values\n",
    "mpl.plot(x,y,'rx')"
   ]
  },
  {
   "cell_type": "code",
   "execution_count": 6,
   "metadata": {},
   "outputs": [],
   "source": [
    "theta=pd.DataFrame({'theta':[0.]*2})\n",
    "thetaT=theta.T\n",
    "numIterations= 10000\n",
    "m, n = np.shape(xs)\n",
    "alpha = 0.0005\n",
    "theta = np.ones(n)\n",
    "theta = gradientDescent(xs, y, theta, alpha, m, numIterations)"
   ]
  },
  {
   "cell_type": "code",
   "execution_count": 7,
   "metadata": {},
   "outputs": [
    {
     "name": "stdout",
     "output_type": "stream",
     "text": [
      "[0.43979125 0.99539474]\n"
     ]
    },
    {
     "data": {
      "image/png": "[encoded data removed]",
      "text/plain": [
       "<Figure size 432x288 with 1 Axes>"
      ]
     },
     "metadata": {
      "needs_background": "light"
     },
     "output_type": "display_data"
    }
   ],
   "source": [
    "print(theta)\n",
    "drawLine(theta[1],theta[0])"
   ]
  },
  {
   "cell_type": "code",
   "execution_count": 8,
   "metadata": {},
   "outputs": [
    {
     "name": "stdout",
     "output_type": "stream",
     "text": [
      "Average error in the test data is 0.356289\n"
     ]
    }
   ],
   "source": [
    " test_data=pd.read_csv(\"test.csv\")\n",
    "xstest=pd.DataFrame({'x0':1.,'x':test_data.X})\n",
    "m, n = np.shape(xstest)\n",
    "xtest=test_data.X.values\n",
    "ytest=test_data.Y.values\n",
    "ycompute=np.dot(xstest,theta)\n",
    "loss=ycompute-ytest\n",
    "print(\"Average error in the test data is %f\"%np.mean(loss))"
   ]
  },
  {
   "cell_type": "code",
   "execution_count": null,
   "metadata": {},
   "outputs": [],
   "source": []
  }
 ],
 "metadata": {
  "kernelspec": {
   "display_name": "Python 3",
   "language": "python",
   "name": "python3"
  },
  "language_info": {
   "codemirror_mode": {
    "name": "ipython",
    "version": 3
   },
   "file_extension": ".py",
   "mimetype": "text/x-python",
   "name": "python",
   "nbconvert_exporter": "python",
   "pygments_lexer": "ipython3",
   "version": "3.7.3"
  }
 },
 "nbformat": 4,
 "nbformat_minor": 2
}
